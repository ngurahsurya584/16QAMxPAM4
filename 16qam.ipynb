{
 "cells": [
  {
   "cell_type": "code",
   "execution_count": 1,
   "metadata": {},
   "outputs": [
    {
     "ename": "TypeError",
     "evalue": "only integer scalar arrays can be converted to a scalar index",
     "output_type": "error",
     "traceback": [
      "\u001b[1;31m---------------------------------------------------------------------------\u001b[0m",
      "\u001b[1;31mTypeError\u001b[0m                                 Traceback (most recent call last)",
      "\u001b[1;32me:\\MCUTNgurah\\Bpython\\testmat.ipynb Cell 1\u001b[0m in \u001b[0;36m<cell line: 13>\u001b[1;34m()\u001b[0m\n\u001b[0;32m     <a href='vscode-notebook-cell:/e%3A/MCUTNgurah/Bpython/testmat.ipynb#W0sZmlsZQ%3D%3D?line=10'>11</a>\u001b[0m \u001b[39m# Create the amplitude modulator\u001b[39;00m\n\u001b[0;32m     <a href='vscode-notebook-cell:/e%3A/MCUTNgurah/Bpython/testmat.ipynb#W0sZmlsZQ%3D%3D?line=11'>12</a>\u001b[0m amp_mod \u001b[39m=\u001b[39m [\u001b[39m-\u001b[39m\u001b[39m3\u001b[39m, \u001b[39m-\u001b[39m\u001b[39m1\u001b[39m, \u001b[39m1\u001b[39m, \u001b[39m3\u001b[39m]  \u001b[39m# Amplitude values for each 2-bit combination\u001b[39;00m\n\u001b[1;32m---> <a href='vscode-notebook-cell:/e%3A/MCUTNgurah/Bpython/testmat.ipynb#W0sZmlsZQ%3D%3D?line=12'>13</a>\u001b[0m amp_values \u001b[39m=\u001b[39m amp_mod[data \u001b[39m/\u001b[39;49m\u001b[39m/\u001b[39;49m \u001b[39m4\u001b[39;49m]  \u001b[39m# Get amplitude values for each symbol\u001b[39;00m\n\u001b[0;32m     <a href='vscode-notebook-cell:/e%3A/MCUTNgurah/Bpython/testmat.ipynb#W0sZmlsZQ%3D%3D?line=14'>15</a>\u001b[0m \u001b[39m# Create the phase modulator\u001b[39;00m\n\u001b[0;32m     <a href='vscode-notebook-cell:/e%3A/MCUTNgurah/Bpython/testmat.ipynb#W0sZmlsZQ%3D%3D?line=15'>16</a>\u001b[0m phase_mod \u001b[39m=\u001b[39m [\u001b[39m-\u001b[39m\u001b[39m3\u001b[39m, \u001b[39m-\u001b[39m\u001b[39m1\u001b[39m, \u001b[39m1\u001b[39m, \u001b[39m3\u001b[39m]  \u001b[39m# Phase shift values for each 2-bit combination\u001b[39;00m\n",
      "\u001b[1;31mTypeError\u001b[0m: only integer scalar arrays can be converted to a scalar index"
     ]
    }
   ],
   "source": [
    "import numpy as np\n",
    "import matplotlib.pyplot as plt\n",
    "\n",
    "# Define the symbol rate and carrier frequency\n",
    "fs = 1000  # Symbol rate in symbols/second\n",
    "fc = 10000  # Carrier frequency in Hz\n",
    "\n",
    "# Generate random data to be transmitted\n",
    "data = np.random.randint(0, 16, 1024)  # 1024 random 4-bit symbols\n",
    "\n",
    "# Create the amplitude modulator\n",
    "amp_mod = [-3, -1, 1, 3]  # Amplitude values for each 2-bit combination\n",
    "amp_values = amp_mod[data // 4]  # Get amplitude values for each symbol\n",
    "\n",
    "# Create the phase modulator\n",
    "phase_mod = [-3, -1, 1, 3]  # Phase shift values for each 2-bit combination\n",
    "phase_values = np.exp(1j * np.pi / 2 * phase_mod[data % 4])  # Get phase values for each symbol\n",
    "\n",
    "# Modulate the carrier wave with the amplitude and phase values\n",
    "t = np.arange(0, len(data) / fs, 1 / fs)  # Time axis\n",
    "carrier = np.exp(1j * 2 * np.pi * fc * t)  # Carrier wave\n",
    "modulated_signal = amp_values * phase_values * carrier  # Modulated signal\n",
    "\n",
    "# Visualize the signal in the complex plane\n",
    "plt.plot(np.real(modulated_signal), np.imag(modulated_signal), 'bo')\n",
    "plt.xlabel('Real')\n",
    "plt.ylabel('Imaginary')\n",
    "plt.title('16-QAM Modulated Signal')\n",
    "plt.show()"
   ]
  }
 ],
 "metadata": {
  "kernelspec": {
   "display_name": "kbmat",
   "language": "python",
   "name": "python3"
  },
  "language_info": {
   "codemirror_mode": {
    "name": "ipython",
    "version": 3
   },
   "file_extension": ".py",
   "mimetype": "text/x-python",
   "name": "python",
   "nbconvert_exporter": "python",
   "pygments_lexer": "ipython3",
   "version": "3.9.0"
  },
  "orig_nbformat": 4
 },
 "nbformat": 4,
 "nbformat_minor": 2
}
